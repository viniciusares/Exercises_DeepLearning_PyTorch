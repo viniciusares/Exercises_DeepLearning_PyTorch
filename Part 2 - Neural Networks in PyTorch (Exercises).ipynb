{
 "cells": [
  {
   "cell_type": "markdown",
   "metadata": {},
   "source": [
    "# Neural networks with PyTorch\n",
    "\n",
    "Deep learning networks tend to be massive with dozens or hundreds of layers, that's where the term \"deep\" comes from. You can build one of these deep networks using only weight matrices as we did in the previous notebook, but in general it's very cumbersome and difficult to implement. PyTorch has a nice module `nn` that provides a nice way to efficiently build large neural networks."
   ]
  },
  {
   "cell_type": "code",
   "execution_count": 1,
   "metadata": {},
   "outputs": [],
   "source": [
    "# Import necessary packages\n",
    "\n",
    "%matplotlib inline\n",
    "%config InlineBackend.figure_format = 'retina'\n",
    "\n",
    "import numpy as np\n",
    "import torch\n",
    "\n",
    "import helper\n",
    "\n",
    "import matplotlib.pyplot as plt"
   ]
  },
  {
   "cell_type": "markdown",
   "metadata": {},
   "source": [
    "\n",
    "Now we're going to build a larger network that can solve a (formerly) difficult problem, identifying text in an image. Here we'll use the MNIST dataset which consists of greyscale handwritten digits. Each image is 28x28 pixels, you can see a sample below\n",
    "\n",
    "<img src='assets/mnist.png'>\n",
    "\n",
    "Our goal is to build a neural network that can take one of these images and predict the digit in the image.\n",
    "\n",
    "First up, we need to get our dataset. This is provided through the `torchvision` package. The code below will download the MNIST dataset, then create training and test datasets for us. Don't worry too much about the details here, you'll learn more about this later."
   ]
  },
  {
   "cell_type": "code",
   "execution_count": 2,
   "metadata": {},
   "outputs": [
    {
     "name": "stdout",
     "output_type": "stream",
     "text": [
      "Downloading http://yann.lecun.com/exdb/mnist/train-images-idx3-ubyte.gz to C:\\Users\\vinic/.pytorch/MNIST_data/MNIST\\raw\\train-images-idx3-ubyte.gz\n"
     ]
    },
    {
     "name": "stderr",
     "output_type": "stream",
     "text": [
      "9920512it [00:02, 3814640.72it/s]                                                                                      \n"
     ]
    },
    {
     "name": "stdout",
     "output_type": "stream",
     "text": [
      "Extracting C:\\Users\\vinic/.pytorch/MNIST_data/MNIST\\raw\\train-images-idx3-ubyte.gz to C:\\Users\\vinic/.pytorch/MNIST_data/MNIST\\raw\n",
      "Downloading http://yann.lecun.com/exdb/mnist/train-labels-idx1-ubyte.gz to C:\\Users\\vinic/.pytorch/MNIST_data/MNIST\\raw\\train-labels-idx1-ubyte.gz\n"
     ]
    },
    {
     "name": "stderr",
     "output_type": "stream",
     "text": [
      "32768it [00:01, 23965.30it/s]                                                                                          \n"
     ]
    },
    {
     "name": "stdout",
     "output_type": "stream",
     "text": [
      "Extracting C:\\Users\\vinic/.pytorch/MNIST_data/MNIST\\raw\\train-labels-idx1-ubyte.gz to C:\\Users\\vinic/.pytorch/MNIST_data/MNIST\\raw\n",
      "Downloading http://yann.lecun.com/exdb/mnist/t10k-images-idx3-ubyte.gz to C:\\Users\\vinic/.pytorch/MNIST_data/MNIST\\raw\\t10k-images-idx3-ubyte.gz\n"
     ]
    },
    {
     "name": "stderr",
     "output_type": "stream",
     "text": [
      "1654784it [00:01, 868387.52it/s]                                                                                       \n"
     ]
    },
    {
     "name": "stdout",
     "output_type": "stream",
     "text": [
      "Extracting C:\\Users\\vinic/.pytorch/MNIST_data/MNIST\\raw\\t10k-images-idx3-ubyte.gz to C:\\Users\\vinic/.pytorch/MNIST_data/MNIST\\raw\n",
      "Downloading http://yann.lecun.com/exdb/mnist/t10k-labels-idx1-ubyte.gz to C:\\Users\\vinic/.pytorch/MNIST_data/MNIST\\raw\\t10k-labels-idx1-ubyte.gz\n"
     ]
    },
    {
     "name": "stderr",
     "output_type": "stream",
     "text": [
      "8192it [00:00, 16811.20it/s]                                                                                           \n"
     ]
    },
    {
     "name": "stdout",
     "output_type": "stream",
     "text": [
      "Extracting C:\\Users\\vinic/.pytorch/MNIST_data/MNIST\\raw\\t10k-labels-idx1-ubyte.gz to C:\\Users\\vinic/.pytorch/MNIST_data/MNIST\\raw\n",
      "Processing...\n",
      "Done!\n"
     ]
    }
   ],
   "source": [
    "### Run this cell\n",
    "\n",
    "from torchvision import datasets, transforms\n",
    "\n",
    "# Define a transform to normalize the data\n",
    "transform = transforms.Compose([transforms.ToTensor(),\n",
    "                              transforms.Normalize((0.5,), (0.5,)),\n",
    "                              ])\n",
    "\n",
    "# Download and load the training data\n",
    "trainset = datasets.MNIST('~/.pytorch/MNIST_data/', download=True, train=True, transform=transform)\n",
    "trainloader = torch.utils.data.DataLoader(trainset, batch_size=64, shuffle=True)"
   ]
  },
  {
   "cell_type": "markdown",
   "metadata": {},
   "source": [
    "We have the training data loaded into `trainloader` and we make that an iterator with `iter(trainloader)`. Later, we'll use this to loop through the dataset for training, like\n",
    "\n",
    "```python\n",
    "for image, label in trainloader:\n",
    "    ## do things with images and labels\n",
    "```\n",
    "\n",
    "You'll notice I created the `trainloader` with a batch size of 64, and `shuffle=True`. The batch size is the number of images we get in one iteration from the data loader and pass through our network, often called a *batch*. And `shuffle=True` tells it to shuffle the dataset every time we start going through the data loader again. But here I'm just grabbing the first batch so we can check out the data. We can see below that `images` is just a tensor with size `(64, 1, 28, 28)`. So, 64 images per batch, 1 color channel, and 28x28 images."
   ]
  },
  {
   "cell_type": "code",
   "execution_count": 3,
   "metadata": {},
   "outputs": [
    {
     "name": "stdout",
     "output_type": "stream",
     "text": [
      "<class 'torch.Tensor'>\n",
      "torch.Size([64, 1, 28, 28])\n",
      "torch.Size([64])\n"
     ]
    }
   ],
   "source": [
    "dataiter = iter(trainloader)\n",
    "images, labels = dataiter.next()\n",
    "print(type(images))\n",
    "print(images.shape)\n",
    "print(labels.shape)"
   ]
  },
  {
   "cell_type": "markdown",
   "metadata": {},
   "source": [
    "This is what one of the images looks like. "
   ]
  },
  {
   "cell_type": "code",
   "execution_count": 31,
   "metadata": {},
   "outputs": [
    {
     "name": "stdout",
     "output_type": "stream",
     "text": [
      "tensor(5)\n"
     ]
    },
    {
     "data": {
      "image/png": "[encoded data removed]",
      "text/plain": [
       "<Figure size 432x288 with 1 Axes>"
      ]
     },
     "metadata": {
      "image/png": {
       "height": 248,
       "width": 251
      },
      "needs_background": "light"
     },
     "output_type": "display_data"
    }
   ],
   "source": [
    "plt.imshow(images[62].numpy().squeeze(), cmap='Greys_r');\n",
    "print(labels[62])"
   ]
  },
  {
   "cell_type": "markdown",
   "metadata": {},
   "source": [
    "First, let's try to build a simple network for this dataset using weight matrices and matrix multiplications. Then, we'll see how to do it using PyTorch's `nn` module which provides a much more convenient and powerful method for defining network architectures.\n",
    "\n",
    "The networks you've seen so far are called *fully-connected* or *dense* networks. Each unit in one layer is connected to each unit in the next layer. In fully-connected networks, the input to each layer must be a one-dimensional vector (which can be stacked into a 2D tensor as a batch of multiple examples). However, our images are 28x28 2D tensors, so we need to convert them into 1D vectors. Thinking about sizes, we need to convert the batch of images with shape `(64, 1, 28, 28)` to a have a shape of `(64, 784)`, 784 is 28 times 28. This is typically called *flattening*, we flattened the 2D images into 1D vectors.\n",
    "\n",
    "Previously you built a network with one output unit. Here we need 10 output units, one for each digit. We want our network to predict the digit shown in an image, so what we'll do is calculate probabilities that the image is of any one digit or class. This ends up being a discrete probability distribution over the classes (digits) that tells us the most likely class for the image. That means we need 10 output units for the 10 classes (digits). We'll see how to convert the network output into a probability distribution next.\n",
    "\n",
    "> **Exercise:** Flatten the batch of images `images`. Then build a multi-layer network with 784 input units, 256 hidden units, and 10 output units using random tensors for the weights and biases. For now, use a sigmoid activation for the hidden layer. Leave the output layer without an activation, we'll add one that gives us a probability distribution next."
   ]
  },
  {
   "cell_type": "code",
   "execution_count": 40,
   "metadata": {},
   "outputs": [
    {
     "name": "stdout",
     "output_type": "stream",
     "text": [
      "torch.Size([64, 10])\n",
      "tensor([  0.1618, -17.6992,  -3.1924,   0.6168,   2.7534,   6.3907,  -7.4661,\n",
      "         -7.6655,   2.1354,  -6.7304])\n",
      "tensor([ -1.0144, -11.0792,  -1.8808,  -7.8739,  -7.6169,   7.3577,  -5.7528,\n",
      "        -13.6646,   2.3148,  -1.5745])\n",
      "tensor([[ 1.6176e-01, -1.7699e+01, -3.1924e+00,  6.1684e-01,  2.7534e+00,\n",
      "          6.3907e+00, -7.4661e+00, -7.6655e+00,  2.1354e+00, -6.7304e+00],\n",
      "        [-1.0144e+00, -1.1079e+01, -1.8808e+00, -7.8739e+00, -7.6169e+00,\n",
      "          7.3577e+00, -5.7528e+00, -1.3665e+01,  2.3148e+00, -1.5745e+00],\n",
      "        [ 5.5166e+00,  6.5686e+00, -2.5845e+00, -1.6408e+00,  2.8508e+00,\n",
      "          7.4378e+00, -9.1200e+00, -3.7756e+00, -1.2162e-01, -6.8978e+00],\n",
      "        [ 3.8816e+00, -4.0009e+00,  8.4446e+00, -4.1722e+00, -6.0716e-01,\n",
      "          1.1648e+01, -3.9082e+00, -8.9198e-01,  4.5118e+00, -1.2261e+01],\n",
      "        [ 2.4088e+00,  1.2753e-01,  4.7037e+00, -4.2319e+00, -1.1446e+01,\n",
      "          7.5888e+00, -1.6528e+00,  2.2762e+00, -2.9818e+00, -1.2296e+01],\n",
      "        [ 5.6755e+00, -1.7705e+01,  2.3193e+00, -4.7729e+00, -4.8007e+00,\n",
      "          7.8935e+00, -4.0350e+00,  2.6262e+00,  1.4791e+00, -3.8164e+00],\n",
      "        [ 4.9333e+00, -1.5899e+01,  3.6424e+00, -4.0458e+00, -5.1519e+00,\n",
      "          7.5960e+00, -1.1848e+01, -5.9975e+00,  2.6387e+00, -5.5349e+00],\n",
      "        [-5.4125e+00, -4.6598e+00,  6.9188e+00,  1.3380e-01, -2.5407e+00,\n",
      "          7.1284e+00, -8.3480e-02, -1.2002e+01, -1.5646e+00, -1.7676e+01],\n",
      "        [ 5.1301e+00,  1.4831e+00,  7.6656e-01, -5.9564e+00,  2.9718e+00,\n",
      "          9.3453e+00, -9.6551e+00, -1.5527e+01, -1.8985e-01, -9.7928e+00],\n",
      "        [-5.6780e-01, -5.9992e+00,  2.6741e+00, -9.1398e+00, -1.1886e+00,\n",
      "          7.5148e+00, -8.5312e+00, -1.0120e+01,  4.4556e-01, -8.2399e+00],\n",
      "        [-7.3594e+00,  3.1148e+00,  7.3858e+00, -9.0417e-01, -5.5524e+00,\n",
      "          1.4926e+01,  9.6095e-01, -5.7151e+00,  8.3444e+00, -5.4806e+00],\n",
      "        [ 7.7129e+00, -1.7260e+01,  5.9246e+00, -5.4492e+00, -6.8698e+00,\n",
      "          7.3824e+00, -1.2073e+01, -5.8758e+00,  1.8803e-01, -5.8872e+00],\n",
      "        [ 1.1824e+01,  5.8826e+00,  9.5326e+00, -5.5475e+00, -6.6196e+00,\n",
      "          5.8513e+00,  2.9171e+00, -1.1851e+01,  1.0180e+01,  4.7288e+00],\n",
      "        [ 1.7232e+00, -1.4143e+01, -1.5989e-01, -3.0819e+00, -6.4468e+00,\n",
      "          6.8381e+00,  3.1006e+00, -1.0373e+01,  2.0147e+00, -7.0728e+00],\n",
      "        [-3.2732e+00, -4.9999e+00,  7.6444e+00, -2.1744e+00,  2.5858e-01,\n",
      "          5.6021e+00, -4.6743e+00, -4.2022e+00, -3.2638e+00, -6.1909e+00],\n",
      "        [ 1.0257e+01, -1.4145e+01,  4.1948e+00, -3.2420e+00, -3.7282e+00,\n",
      "          4.7384e+00, -1.0675e+01, -9.5181e+00, -1.3850e-01, -5.4213e+00],\n",
      "        [ 8.4827e+00, -7.5910e+00, -4.2953e+00, -2.2771e+00,  8.8573e-01,\n",
      "          1.0435e+01, -4.1704e+00, -4.7990e+00,  7.4578e+00,  1.3622e+01],\n",
      "        [-8.0653e-01, -5.3513e+00, -9.5244e-01, -9.1082e+00,  3.4488e+00,\n",
      "          7.5644e+00, -1.3075e+01,  5.5855e+00,  7.5633e+00,  9.6797e+00],\n",
      "        [-5.8065e+00, -8.2970e+00, -6.9714e+00,  3.7185e+00, -1.0147e+01,\n",
      "          2.6954e+00, -1.2814e+01, -6.0598e+00,  4.3708e+00, -9.1742e+00],\n",
      "        [ 9.6359e-01, -4.9132e+00,  2.8720e+00, -7.3252e+00, -7.5253e-02,\n",
      "          2.1123e+01, -3.0172e+00, -1.9313e+01,  4.7040e+00, -1.1942e+01],\n",
      "        [ 5.7624e+00, -8.7816e+00,  8.1720e+00,  1.9239e+00, -9.0725e+00,\n",
      "          6.0239e-01, -1.3852e+01, -3.4993e+00,  3.3604e+00, -2.2007e+00],\n",
      "        [-3.2628e+00, -5.6358e+00,  3.6287e+00, -9.0191e+00, -5.4287e-01,\n",
      "          6.8128e+00, -2.4313e+00, -7.9526e+00,  7.0644e+00, -2.0930e+00],\n",
      "        [-8.3842e+00, -7.8596e+00, -7.1991e+00, -6.9486e+00, -2.0451e+00,\n",
      "          1.3800e+01,  1.2866e+00, -6.9663e+00,  1.0806e+00, -8.1077e+00],\n",
      "        [-2.8667e+00, -1.8434e+00,  4.6667e+00, -6.2895e+00, -1.2211e+00,\n",
      "          9.0855e+00, -4.5860e+00, -1.6270e+01,  3.3339e+00, -6.5831e+00],\n",
      "        [ 7.0468e-01, -5.9404e+00,  7.0626e+00, -3.8933e+00, -5.8087e+00,\n",
      "          7.3070e+00, -3.8261e+00, -8.6650e+00,  4.4397e+00, -1.0935e+01],\n",
      "        [ 2.6794e+00, -5.5697e+00,  5.0268e+00, -1.1079e+01, -4.9184e+00,\n",
      "          3.0712e+00, -5.7833e+00, -5.6072e+00, -3.4607e-01, -4.5202e+00],\n",
      "        [ 2.4757e+00, -1.0130e+01,  6.6510e+00, -8.6542e-01, -5.5171e+00,\n",
      "          6.4207e+00, -1.0676e+01, -1.0194e+01, -9.0250e+00, -1.5343e+01],\n",
      "        [ 6.0840e-01, -1.4855e+01,  4.3815e+00, -4.4441e+00, -3.0865e+00,\n",
      "          7.4335e+00, -4.8258e+00, -1.4132e+01, -6.4645e-01, -1.9709e+01],\n",
      "        [ 1.7291e+00,  4.0152e+00,  7.2663e+00, -6.5524e+00,  5.4443e+00,\n",
      "          9.0901e+00, -1.9726e+00, -5.1906e+00,  2.0139e+00, -1.5590e+01],\n",
      "        [ 3.6766e+00, -5.4793e+00,  9.1676e+00, -3.7721e+00, -4.3364e+00,\n",
      "          5.8765e+00,  1.1027e+00, -1.2557e+01, -5.4652e-01, -5.7710e+00],\n",
      "        [-2.0606e+00,  3.9783e-01, -3.0245e-01, -5.8290e+00,  1.3123e+00,\n",
      "          1.3381e+01, -2.9810e+00, -2.4530e+00,  2.8761e+00, -3.5956e+00],\n",
      "        [-1.2480e+00, -1.0492e+01,  1.9151e+00, -5.7415e+00, -5.3100e+00,\n",
      "          5.9485e+00, -8.8436e+00, -1.5047e+01, -6.7106e-01, -7.4548e+00],\n",
      "        [-7.8872e+00, -5.7952e+00,  2.1429e-01, -7.4337e+00,  6.6365e+00,\n",
      "          8.2919e+00, -5.7183e+00, -1.0390e+01,  4.0919e+00, -2.8718e+00],\n",
      "        [ 4.3432e+00, -5.1576e+00, -1.9683e+00, -5.3020e+00,  2.2423e-01,\n",
      "          3.6280e+00, -8.9387e+00, -1.2189e+01, -2.3178e-02, -1.6075e+01],\n",
      "        [-1.0419e+00, -1.0862e+01,  8.8128e+00, -1.1462e+01, -4.0725e+00,\n",
      "          3.8931e+00, -1.2890e+01, -1.8545e+01, -8.1283e+00, -9.9870e+00],\n",
      "        [ 6.0798e+00,  9.1690e-01,  6.2482e+00,  6.6525e-01,  5.4932e-01,\n",
      "          1.1882e+01, -2.4158e+00, -7.3784e+00,  9.8259e+00, -5.0530e+00],\n",
      "        [ 9.8918e-01, -1.0356e+01,  6.3067e+00,  1.4605e+00, -6.8989e-01,\n",
      "          8.7147e+00, -5.2915e+00, -2.0628e+01, -1.7373e+00, -5.5391e+00],\n",
      "        [-2.2958e+00, -1.4869e+01,  5.4880e-01, -3.2434e+00, -6.4665e-01,\n",
      "          8.6512e+00,  1.6065e+00, -1.1369e+01,  1.1450e+00, -1.6279e+01],\n",
      "        [ 4.6646e+00, -6.9327e+00, -6.3106e-01, -5.9661e+00, -6.2295e+00,\n",
      "          2.4857e+00, -6.2948e+00, -1.0591e+00,  6.8411e+00, -2.3874e+00],\n",
      "        [ 2.9865e-01, -2.6548e+00, -3.9547e+00, -2.5532e+00, -6.7440e+00,\n",
      "          8.3245e+00, -2.7224e+00,  3.7469e+00, -6.4374e-01, -1.0267e+01],\n",
      "        [ 6.4499e-01, -3.6646e+00,  4.4365e+00, -4.3459e+00, -4.4390e+00,\n",
      "          8.8502e+00,  6.5040e-02, -1.4470e+01, -2.4813e+00, -9.5471e+00],\n",
      "        [ 3.3662e+00, -5.4527e-01,  3.1482e+00, -1.6242e+00,  6.9852e+00,\n",
      "          7.2807e+00, -4.1531e+00, -2.3104e+00,  8.4151e+00,  4.4506e+00],\n",
      "        [ 5.5015e-01, -7.8762e+00,  4.9112e-01, -4.1854e+00,  7.8412e+00,\n",
      "          1.1538e+01, -2.1679e+00, -6.5216e+00,  6.5702e+00, -1.3647e+01],\n",
      "        [ 4.8700e+00, -8.6206e+00,  7.4218e+00,  2.1273e+00, -3.3595e+00,\n",
      "          8.6019e+00, -4.2894e+00, -7.6658e+00, -1.3652e+01, -1.4816e+01],\n",
      "        [ 4.3723e+00, -6.7784e+00,  2.2021e+00, -6.2476e+00, -1.7004e+01,\n",
      "          1.4463e+01, -1.4023e+00, -7.3000e+00, -7.8574e-04, -1.7897e+01],\n",
      "        [ 1.6628e+00, -1.2664e-01,  1.7317e+00, -8.8007e+00,  1.0909e+00,\n",
      "          4.9879e+00, -3.2083e+00, -6.3579e+00, -9.2827e-01, -1.2706e+01],\n",
      "        [ 9.5289e+00, -1.4258e+01,  4.0774e+00, -3.2980e+00, -5.3731e+00,\n",
      "          5.4446e+00, -1.4221e+01, -5.0188e+00,  1.8790e-01, -6.9881e+00],\n",
      "        [-4.5738e+00, -9.7277e+00, -2.6747e+00, -7.5171e+00, -2.6652e+00,\n",
      "          1.1238e+01, -4.2167e+00, -1.5245e+01,  1.6024e+00, -1.0807e+01],\n",
      "        [ 2.5594e+00, -8.9459e+00,  6.3222e+00, -9.2893e+00, -9.7878e+00,\n",
      "          9.2834e+00, -3.4570e+00,  2.6705e-01,  6.4977e+00, -4.4146e+00],\n",
      "        [ 3.3502e+00, -7.6882e+00, -4.7818e+00, -3.2971e+00, -3.6732e+00,\n",
      "          1.1112e+01,  1.7799e+00, -1.0857e+01,  3.1579e-02, -1.7317e+00],\n",
      "        [ 4.5622e+00,  9.6397e+00,  1.4659e+01, -1.1441e+01,  6.6854e+00,\n",
      "          1.2876e+01,  6.5046e+00, -8.5407e+00,  2.5093e+00, -1.0651e+01],\n",
      "        [ 7.8630e+00, -1.2398e+01,  4.0543e+00, -1.3858e+00, -1.7582e+00,\n",
      "          4.7811e+00, -1.0035e+01, -8.3854e+00,  6.9888e-01, -4.8265e+00],\n",
      "        [ 4.1677e+00, -1.3857e-01,  1.0003e+01,  2.1814e+00, -2.9002e+00,\n",
      "          7.8809e+00, -4.9084e+00, -1.1092e+01, -1.7871e+00, -1.6110e+01],\n",
      "        [ 5.4862e-01, -1.1158e+00,  7.0858e-01, -1.9759e+00, -7.7350e+00,\n",
      "          7.7275e+00,  5.4187e+00, -9.5470e+00,  3.0407e+00, -1.1729e+01],\n",
      "        [ 6.0378e+00, -7.6356e+00, -2.3225e+00, -1.1016e+01, -8.2762e+00,\n",
      "          6.3179e+00, -2.2597e+00, -2.4999e+00,  1.0623e+01, -3.0017e+00],\n",
      "        [-5.2528e+00, -1.0504e+01, -5.2121e-02, -3.7752e+00, -1.1934e+01,\n",
      "          3.1017e+00, -6.3845e+00, -1.0473e+01,  1.5367e+00, -5.4534e+00],\n",
      "        [ 3.6223e+00,  3.4185e-01,  1.0387e-01, -8.0982e-01, -4.2542e+00,\n",
      "          4.8172e+00, -8.4588e+00, -8.0610e+00,  5.4265e+00, -3.4997e+00],\n",
      "        [ 1.0587e+01, -1.5274e+01,  3.1692e+00,  2.5423e+00, -1.2231e+01,\n",
      "          1.0267e+00,  4.6040e+00, -1.0666e+01, -4.0541e+00, -1.1501e+01],\n",
      "        [-3.9587e+00, -6.1775e+00, -5.9030e+00, -1.7886e+00, -1.3145e+01,\n",
      "          4.1501e+00, -1.0113e+01, -6.0569e+00, -5.9644e+00, -3.2395e+00],\n",
      "        [ 5.6856e+00, -1.4791e+01,  7.1408e+00, -8.2227e+00, -1.1818e+01,\n",
      "          5.6479e-02, -1.4830e+01, -8.5196e+00,  7.6651e+00, -4.7790e+00],\n",
      "        [ 2.2416e+00, -1.9727e+00,  4.1753e-01,  6.4110e-01, -2.9089e+00,\n",
      "          9.9072e+00, -1.2826e+01, -5.4857e+00, -8.0145e-01, -1.8279e+01],\n",
      "        [-1.1790e+01, -1.0033e+01, -2.9179e+00, -6.1974e+00, -1.0475e+01,\n",
      "          5.5927e-01, -1.1057e+01, -8.9464e-01,  4.6515e-01, -5.0110e+00],\n",
      "        [-1.8609e+00, -4.5089e+00, -8.5571e+00, -2.8235e+00, -3.2517e+00,\n",
      "          6.1149e+00,  3.2528e+00, -9.4137e-01,  4.4859e+00, -1.3594e+01],\n",
      "        [-5.5012e+00, -1.6968e+01, -3.5017e+00, -8.3851e+00,  3.7948e+00,\n"
     ]
    },
    {
     "name": "stdout",
     "output_type": "stream",
     "text": [
      "          1.9138e+01, -5.3737e+00, -2.5431e+00,  1.6122e+01, -1.6996e+01]])\n"
     ]
    }
   ],
   "source": [
    "## Your solution\n",
    "\n",
    "def activation(x):\n",
    "    \"\"\"\n",
    "    Recieves a Torch tensor.\n",
    "    Returns the sigmoid of it\n",
    "    \"\"\"\n",
    "    return 1/(1 + torch.exp(-x))\n",
    "\n",
    "# 784 input units (28x28)\n",
    "# 256 hidden units (tirou do chapeu)\n",
    "# 10 output units\n",
    "\n",
    "# images.shape = torch.Size([64, 1, 28, 28])\n",
    "# vou transformar em (64, 784)? Mas pra mim cada imagem é (1, 784)\n",
    "# tá bom, foda-se, vou fazer meus pesos de uma data dimensão, e se precisar troco\n",
    "# pesos não combina só com input, tem que ser dum jeito que já vai pra prox camada\n",
    "# Flatten image, como faz isso? Ou daria pra fazer através de um for,\n",
    "# ou poderia tentar usar o comando .view, eu só queria ter alguma certeza que o view\n",
    "# mantém uma ordem lógica\n",
    "\n",
    "# Flatten the input images\n",
    "images784 = images.view(64, 784)\n",
    "\n",
    "torch.manual_seed(7)\n",
    "weights1 = torch.randn((784, 256))\n",
    "bias1 = torch.randn((1, 256))\n",
    "weights2 = torch.randn((256, 10))\n",
    "bias2 = torch.randn((1, 10))\n",
    "\n",
    "hidden = activation(torch.mm(images784, weights1) + bias1) # pixels\n",
    "out = torch.mm(hidden, weights2) + bias2 # seriam 10 saidas, foi pedido deixar sem Activation\n",
    "print(out.shape)\n",
    "print(out[0,:])\n",
    "print(out[1,:])\n",
    "print(out)\n",
    "#out = # output of your network, should have shape (64,10)"
   ]
  },
  {
   "cell_type": "markdown",
   "metadata": {},
   "source": [
    "Now we have 10 outputs for our network. We want to pass in an image to our network and get out a probability distribution over the classes that tells us the likely class(es) the image belongs to. Something that looks like this:\n",
    "<img src='assets/image_distribution.png' width=500px>\n",
    "\n",
    "Here we see that the probability for each class is roughly the same. This is representing an untrained network, it hasn't seen any data yet so it just returns a uniform distribution with equal probabilities for each class.\n",
    "\n",
    "To calculate this probability distribution, we often use the [**softmax** function](https://en.wikipedia.org/wiki/Softmax_function). Mathematically this looks like\n",
    "\n",
    "$$\n",
    "\\Large \\sigma(x_i) = \\cfrac{e^{x_i}}{\\sum_k^K{e^{x_k}}}\n",
    "$$\n",
    "\n",
    "What this does is squish each input $x_i$ between 0 and 1 and normalizes the values to give you a proper probability distribution where the probabilites sum up to one.\n",
    "\n",
    "> **Exercise:** Implement a function `softmax` that performs the softmax calculation and returns probability distributions for each example in the batch. Note that you'll need to pay attention to the shapes when doing this. If you have a tensor `a` with shape `(64, 10)` and a tensor `b` with shape `(64,)`, doing `a/b` will give you an error because PyTorch will try to do the division across the columns (called broadcasting) but you'll get a size mismatch. The way to think about this is for each of the 64 examples, you only want to divide by one value, the sum in the denominator. So you need `b` to have a shape of `(64, 1)`. This way PyTorch will divide the 10 values in each row of `a` by the one value in each row of `b`. Pay attention to how you take the sum as well. You'll need to define the `dim` keyword in `torch.sum`. Setting `dim=0` takes the sum across the rows while `dim=1` takes the sum across the columns."
   ]
  },
  {
   "cell_type": "code",
   "execution_count": 56,
   "metadata": {},
   "outputs": [
    {
     "name": "stdout",
     "output_type": "stream",
     "text": [
      "torch.Size([64, 10])\n",
      "tensor([1.0000, 1.0000, 1.0000, 1.0000, 1.0000, 1.0000, 1.0000, 1.0000, 1.0000,\n",
      "        1.0000, 1.0000, 1.0000, 1.0000, 1.0000, 1.0000, 1.0000, 1.0000, 1.0000,\n",
      "        1.0000, 1.0000, 1.0000, 1.0000, 1.0000, 1.0000, 1.0000, 1.0000, 1.0000,\n",
      "        1.0000, 1.0000, 1.0000, 1.0000, 1.0000, 1.0000, 1.0000, 1.0000, 1.0000,\n",
      "        1.0000, 1.0000, 1.0000, 1.0000, 1.0000, 1.0000, 1.0000, 1.0000, 1.0000,\n",
      "        1.0000, 1.0000, 1.0000, 1.0000, 1.0000, 1.0000, 1.0000, 1.0000, 1.0000,\n",
      "        1.0000, 1.0000, 1.0000, 1.0000, 1.0000, 1.0000, 1.0000, 1.0000, 1.0000,\n",
      "        1.0000])\n"
     ]
    }
   ],
   "source": [
    "\"\"\"\n",
    "def softmax(x):\n",
    "    ## TODO: Implement the softmax function here\n",
    "    denominator = 0\n",
    "    for element in range(x.shape[1]):\n",
    "        denominator = torch.exp(x[element])\n",
    "        denominator.sum()\n",
    "    return torch.exp(x)/denominator\n",
    "\"\"\"\n",
    "\n",
    "def softmax(x):\n",
    "    den0 = torch.exp(x)\n",
    "    den1 = torch.sum(den0, dim=1)\n",
    "    den2 = den1.view(-1, 1)\n",
    "    return torch.exp(x)/den2\n",
    "            \n",
    "\n",
    "# Here, out should be the output of the network in the previous excercise with shape (64,10)\n",
    "probabilities = softmax(out)\n",
    "\n",
    "# Does it have the right shape? Should be (64, 10)\n",
    "print(probabilities.shape)\n",
    "# Does it sum to 1?\n",
    "print(probabilities.sum(dim=1))"
   ]
  },
  {
   "cell_type": "code",
   "execution_count": 51,
   "metadata": {},
   "outputs": [
    {
     "name": "stdout",
     "output_type": "stream",
     "text": [
      "probteste é tensor([1.8854e-03, 3.2997e-11, 6.5873e-05, 2.9720e-03, 2.5173e-02, 9.5633e-01,\n",
      "        9.1764e-07, 7.5179e-07, 1.3569e-02, 1.9151e-06])\n",
      "probteste max é 0.956331193447113\n",
      "a soma é 0.9999999403953552\n"
     ]
    }
   ],
   "source": [
    "probteste = softmax(out[0,:])\n",
    "print(f\"probteste é {probteste}\")\n",
    "print(f\"probteste max é {probteste[5]}\")\n",
    "print(f\"a soma é {probteste.sum()}\")"
   ]
  },
  {
   "cell_type": "markdown",
   "metadata": {},
   "source": [
    "## Building networks with PyTorch\n",
    "\n",
    "PyTorch provides a module `nn` that makes building networks much simpler. Here I'll show you how to build the same one as above with 784 inputs, 256 hidden units, 10 output units and a softmax output."
   ]
  },
  {
   "cell_type": "code",
   "execution_count": null,
   "metadata": {
    "collapsed": true
   },
   "outputs": [],
   "source": [
    "from torch import nn"
   ]
  },
  {
   "cell_type": "code",
   "execution_count": null,
   "metadata": {
    "collapsed": true
   },
   "outputs": [],
   "source": [
    "class Network(nn.Module):\n",
    "    def __init__(self):\n",
    "        super().__init__()\n",
    "        \n",
    "        # Inputs to hidden layer linear transformation\n",
    "        self.hidden = nn.Linear(784, 256)\n",
    "        # Output layer, 10 units - one for each digit\n",
    "        self.output = nn.Linear(256, 10)\n",
    "        \n",
    "        # Define sigmoid activation and softmax output \n",
    "        self.sigmoid = nn.Sigmoid()\n",
    "        self.softmax = nn.Softmax(dim=1)\n",
    "        \n",
    "    def forward(self, x):\n",
    "        # Pass the input tensor through each of our operations\n",
    "        x = self.hidden(x)\n",
    "        x = self.sigmoid(x)\n",
    "        x = self.output(x)\n",
    "        x = self.softmax(x)\n",
    "        \n",
    "        return x"
   ]
  },
  {
   "cell_type": "markdown",
   "metadata": {},
   "source": [
    "Let's go through this bit by bit.\n",
    "\n",
    "```python\n",
    "class Network(nn.Module):\n",
    "```\n",
    "\n",
    "Here we're inheriting from `nn.Module`. Combined with `super().__init__()` this creates a class that tracks the architecture and provides a lot of useful methods and attributes. It is mandatory to inherit from `nn.Module` when you're creating a class for your network. The name of the class itself can be anything.\n",
    "\n",
    "```python\n",
    "self.hidden = nn.Linear(784, 256)\n",
    "```\n",
    "\n",
    "This line creates a module for a linear transformation, $x\\mathbf{W} + b$, with 784 inputs and 256 outputs and assigns it to `self.hidden`. The module automatically creates the weight and bias tensors which we'll use in the `forward` method. You can access the weight and bias tensors once the network (`net`) is created with `net.hidden.weight` and `net.hidden.bias`.\n",
    "\n",
    "```python\n",
    "self.output = nn.Linear(256, 10)\n",
    "```\n",
    "\n",
    "Similarly, this creates another linear transformation with 256 inputs and 10 outputs.\n",
    "\n",
    "```python\n",
    "self.sigmoid = nn.Sigmoid()\n",
    "self.softmax = nn.Softmax(dim=1)\n",
    "```\n",
    "\n",
    "Here I defined operations for the sigmoid activation and softmax output. Setting `dim=1` in `nn.Softmax(dim=1)` calculates softmax across the columns.\n",
    "\n",
    "```python\n",
    "def forward(self, x):\n",
    "```\n",
    "\n",
    "PyTorch networks created with `nn.Module` must have a `forward` method defined. It takes in a tensor `x` and passes it through the operations you defined in the `__init__` method.\n",
    "\n",
    "```python\n",
    "x = self.hidden(x)\n",
    "x = self.sigmoid(x)\n",
    "x = self.output(x)\n",
    "x = self.softmax(x)\n",
    "```\n",
    "\n",
    "Here the input tensor `x` is passed through each operation and reassigned to `x`. We can see that the input tensor goes through the hidden layer, then a sigmoid function, then the output layer, and finally the softmax function. It doesn't matter what you name the variables here, as long as the inputs and outputs of the operations match the network architecture you want to build. The order in which you define things in the `__init__` method doesn't matter, but you'll need to sequence the operations correctly in the `forward` method.\n",
    "\n",
    "Now we can create a `Network` object."
   ]
  },
  {
   "cell_type": "code",
   "execution_count": null,
   "metadata": {
    "collapsed": true
   },
   "outputs": [],
   "source": [
    "# Create the network and look at it's text representation\n",
    "model = Network()\n",
    "model"
   ]
  },
  {
   "cell_type": "markdown",
   "metadata": {},
   "source": [
    "You can define the network somewhat more concisely and clearly using the `torch.nn.functional` module. This is the most common way you'll see networks defined as many operations are simple element-wise functions. We normally import this module as `F`, `import torch.nn.functional as F`."
   ]
  },
  {
   "cell_type": "code",
   "execution_count": null,
   "metadata": {
    "collapsed": true
   },
   "outputs": [],
   "source": [
    "import torch.nn.functional as F\n",
    "\n",
    "class Network(nn.Module):\n",
    "    def __init__(self):\n",
    "        super().__init__()\n",
    "        # Inputs to hidden layer linear transformation\n",
    "        self.hidden = nn.Linear(784, 256)\n",
    "        # Output layer, 10 units - one for each digit\n",
    "        self.output = nn.Linear(256, 10)\n",
    "        \n",
    "    def forward(self, x):\n",
    "        # Hidden layer with sigmoid activation\n",
    "        x = F.sigmoid(self.hidden(x))\n",
    "        # Output layer with softmax activation\n",
    "        x = F.softmax(self.output(x), dim=1)\n",
    "        \n",
    "        return x"
   ]
  },
  {
   "cell_type": "markdown",
   "metadata": {},
   "source": [
    "### Activation functions\n",
    "\n",
    "So far we've only been looking at the sigmoid activation function, but in general any function can be used as an activation function. The only requirement is that for a network to approximate a non-linear function, the activation functions must be non-linear. Here are a few more examples of common activation functions: Tanh (hyperbolic tangent), and ReLU (rectified linear unit).\n",
    "\n",
    "<img src=\"assets/activation.png\" width=700px>\n",
    "\n",
    "In practice, the ReLU function is used almost exclusively as the activation function for hidden layers."
   ]
  },
  {
   "cell_type": "markdown",
   "metadata": {},
   "source": [
    "### Your Turn to Build a Network\n",
    "\n",
    "<img src=\"assets/mlp_mnist.png\" width=600px>\n",
    "\n",
    "> **Exercise:** Create a network with 784 input units, a hidden layer with 128 units and a ReLU activation, then a hidden layer with 64 units and a ReLU activation, and finally an output layer with a softmax activation as shown above. You can use a ReLU activation with the `nn.ReLU` module or `F.relu` function.\n",
    "\n",
    "It's good practice to name your layers by their type of network, for instance 'fc' to represent a fully-connected layer. As you code your solution, use `fc1`, `fc2`, and `fc3` as your layer names."
   ]
  },
  {
   "cell_type": "code",
   "execution_count": null,
   "metadata": {
    "collapsed": true,
    "scrolled": true
   },
   "outputs": [],
   "source": [
    "## Your solution here\n"
   ]
  },
  {
   "cell_type": "markdown",
   "metadata": {},
   "source": [
    "### Initializing weights and biases\n",
    "\n",
    "The weights and such are automatically initialized for you, but it's possible to customize how they are initialized. The weights and biases are tensors attached to the layer you defined, you can get them with `model.fc1.weight` for instance."
   ]
  },
  {
   "cell_type": "code",
   "execution_count": null,
   "metadata": {
    "collapsed": true
   },
   "outputs": [],
   "source": [
    "print(model.fc1.weight)\n",
    "print(model.fc1.bias)"
   ]
  },
  {
   "cell_type": "markdown",
   "metadata": {},
   "source": [
    "For custom initialization, we want to modify these tensors in place. These are actually autograd *Variables*, so we need to get back the actual tensors with `model.fc1.weight.data`. Once we have the tensors, we can fill them with zeros (for biases) or random normal values."
   ]
  },
  {
   "cell_type": "code",
   "execution_count": null,
   "metadata": {
    "collapsed": true
   },
   "outputs": [],
   "source": [
    "# Set biases to all zeros\n",
    "model.fc1.bias.data.fill_(0)"
   ]
  },
  {
   "cell_type": "code",
   "execution_count": null,
   "metadata": {
    "collapsed": true
   },
   "outputs": [],
   "source": [
    "# sample from random normal with standard dev = 0.01\n",
    "model.fc1.weight.data.normal_(std=0.01)"
   ]
  },
  {
   "cell_type": "markdown",
   "metadata": {},
   "source": [
    "### Forward pass\n",
    "\n",
    "Now that we have a network, let's see what happens when we pass in an image."
   ]
  },
  {
   "cell_type": "code",
   "execution_count": null,
   "metadata": {
    "collapsed": true
   },
   "outputs": [],
   "source": [
    "# Grab some data \n",
    "dataiter = iter(trainloader)\n",
    "images, labels = dataiter.next()\n",
    "\n",
    "# Resize images into a 1D vector, new shape is (batch size, color channels, image pixels) \n",
    "images.resize_(64, 1, 784)\n",
    "# or images.resize_(images.shape[0], 1, 784) to automatically get batch size\n",
    "\n",
    "# Forward pass through the network\n",
    "img_idx = 0\n",
    "ps = model.forward(images[img_idx,:])\n",
    "\n",
    "img = images[img_idx]\n",
    "helper.view_classify(img.view(1, 28, 28), ps)"
   ]
  },
  {
   "cell_type": "markdown",
   "metadata": {},
   "source": [
    "As you can see above, our network has basically no idea what this digit is. It's because we haven't trained it yet, all the weights are random!\n",
    "\n",
    "### Using `nn.Sequential`\n",
    "\n",
    "PyTorch provides a convenient way to build networks like this where a tensor is passed sequentially through operations, `nn.Sequential` ([documentation](https://pytorch.org/docs/master/nn.html#torch.nn.Sequential)). Using this to build the equivalent network:"
   ]
  },
  {
   "cell_type": "code",
   "execution_count": null,
   "metadata": {
    "collapsed": true
   },
   "outputs": [],
   "source": [
    "# Hyperparameters for our network\n",
    "input_size = 784\n",
    "hidden_sizes = [128, 64]\n",
    "output_size = 10\n",
    "\n",
    "# Build a feed-forward network\n",
    "model = nn.Sequential(nn.Linear(input_size, hidden_sizes[0]),\n",
    "                      nn.ReLU(),\n",
    "                      nn.Linear(hidden_sizes[0], hidden_sizes[1]),\n",
    "                      nn.ReLU(),\n",
    "                      nn.Linear(hidden_sizes[1], output_size),\n",
    "                      nn.Softmax(dim=1))\n",
    "print(model)\n",
    "\n",
    "# Forward pass through the network and display output\n",
    "images, labels = next(iter(trainloader))\n",
    "images.resize_(images.shape[0], 1, 784)\n",
    "ps = model.forward(images[0,:])\n",
    "helper.view_classify(images[0].view(1, 28, 28), ps)"
   ]
  },
  {
   "cell_type": "markdown",
   "metadata": {},
   "source": [
    "Here our model is the same as before: 784 input units, a hidden layer with 128 units, ReLU activation, 64 unit hidden layer, another ReLU, then the output layer with 10 units, and the softmax output.\n",
    "\n",
    "The operations are available by passing in the appropriate index. For example, if you want to get first Linear operation and look at the weights, you'd use `model[0]`."
   ]
  },
  {
   "cell_type": "code",
   "execution_count": null,
   "metadata": {
    "collapsed": true
   },
   "outputs": [],
   "source": [
    "print(model[0])\n",
    "model[0].weight"
   ]
  },
  {
   "cell_type": "markdown",
   "metadata": {},
   "source": [
    "You can also pass in an `OrderedDict` to name the individual layers and operations, instead of using incremental integers. Note that dictionary keys must be unique, so _each operation must have a different name_."
   ]
  },
  {
   "cell_type": "code",
   "execution_count": null,
   "metadata": {
    "collapsed": true
   },
   "outputs": [],
   "source": [
    "from collections import OrderedDict\n",
    "model = nn.Sequential(OrderedDict([\n",
    "                      ('fc1', nn.Linear(input_size, hidden_sizes[0])),\n",
    "                      ('relu1', nn.ReLU()),\n",
    "                      ('fc2', nn.Linear(hidden_sizes[0], hidden_sizes[1])),\n",
    "                      ('relu2', nn.ReLU()),\n",
    "                      ('output', nn.Linear(hidden_sizes[1], output_size)),\n",
    "                      ('softmax', nn.Softmax(dim=1))]))\n",
    "model"
   ]
  },
  {
   "cell_type": "markdown",
   "metadata": {},
   "source": [
    "Now you can access layers either by integer or the name"
   ]
  },
  {
   "cell_type": "code",
   "execution_count": null,
   "metadata": {
    "collapsed": true
   },
   "outputs": [],
   "source": [
    "print(model[0])\n",
    "print(model.fc1)"
   ]
  },
  {
   "cell_type": "markdown",
   "metadata": {},
   "source": [
    "In the next notebook, we'll see how we can train a neural network to accuractly predict the numbers appearing in the MNIST images."
   ]
  }
 ],
 "metadata": {
  "kernelspec": {
   "display_name": "Python 3",
   "language": "python",
   "name": "python3"
  },
  "language_info": {
   "codemirror_mode": {
    "name": "ipython",
    "version": 3
   },
   "file_extension": ".py",
   "mimetype": "text/x-python",
   "name": "python",
   "nbconvert_exporter": "python",
   "pygments_lexer": "ipython3",
   "version": "3.7.3"
  }
 },
 "nbformat": 4,
 "nbformat_minor": 2
}
